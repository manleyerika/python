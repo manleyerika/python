{
 "cells": [
  {
   "cell_type": "code",
   "execution_count": 2,
   "id": "7ecf7650-eb44-4c7c-ba8a-15cb33a2a4a2",
   "metadata": {},
   "outputs": [
    {
     "data": {
      "text/plain": [
       "' \\nReference: Starting Out with Python, 5th edition, Tony Gaddis \\nGADDIS, T. (2020). STARTING OUT WITH PYTHON. PRENTICE HALL.\\n'"
      ]
     },
     "execution_count": 2,
     "metadata": {},
     "output_type": "execute_result"
    }
   ],
   "source": [
    "''' \n",
    "Reference: Starting Out with Python, 5th edition, Tony Gaddis \n",
    "GADDIS, T. (2020). STARTING OUT WITH PYTHON. PRENTICE HALL.\n",
    "'''"
   ]
  },
  {
   "cell_type": "markdown",
   "id": "e1dcc179-b93c-4af5-8efd-78d81cc081f6",
   "metadata": {},
   "source": [
    "Display Output:"
   ]
  },
  {
   "cell_type": "code",
   "execution_count": 1,
   "id": "da6fe730-1e2c-4ab1-9c0f-e59bb484c551",
   "metadata": {},
   "outputs": [
    {
     "name": "stdout",
     "output_type": "stream",
     "text": [
      "Hello world\n"
     ]
    }
   ],
   "source": [
    "print('Hello world')"
   ]
  },
  {
   "cell_type": "code",
   "execution_count": 2,
   "id": "0432a472-f5d5-43a1-815d-6008b9dfdcc9",
   "metadata": {},
   "outputs": [
    {
     "name": "stdout",
     "output_type": "stream",
     "text": [
      "Hello world\n"
     ]
    }
   ],
   "source": [
    "print(\"Hello world\")"
   ]
  },
  {
   "cell_type": "markdown",
   "id": "d6e23e18-c9e5-43eb-8987-3772617de1b9",
   "metadata": {},
   "source": [
    "Comments: #, ''' '''"
   ]
  },
  {
   "cell_type": "markdown",
   "id": "8b71fefa-12a3-411a-9784-0e040b1352be",
   "metadata": {},
   "source": [
    "Variables:"
   ]
  },
  {
   "cell_type": "code",
   "execution_count": 5,
   "id": "709ba2eb-2cf3-4932-95ad-5af9ba433b69",
   "metadata": {},
   "outputs": [],
   "source": [
    "length = 15"
   ]
  },
  {
   "cell_type": "code",
   "execution_count": 7,
   "id": "2e0e658e-6d95-4686-a8bd-c915e0432b3e",
   "metadata": {},
   "outputs": [
    {
     "name": "stdout",
     "output_type": "stream",
     "text": [
      "The length is 15\n"
     ]
    }
   ],
   "source": [
    "print('The length is', length)"
   ]
  },
  {
   "cell_type": "markdown",
   "id": "50dfb49a-7f43-43cc-a335-00714cf9135f",
   "metadata": {},
   "source": [
    "Strings:"
   ]
  },
  {
   "cell_type": "code",
   "execution_count": 8,
   "id": "9cb3e6ff-fdb4-4928-bac3-8b25c2a5aa61",
   "metadata": {},
   "outputs": [],
   "source": [
    "first_name = 'Matilda'"
   ]
  },
  {
   "cell_type": "markdown",
   "id": "c8f93b37-2749-40e0-9a88-c30a49135b70",
   "metadata": {},
   "source": [
    "Reading Input from the Keyboard:"
   ]
  },
  {
   "cell_type": "code",
   "execution_count": 13,
   "id": "3d774bdb-1023-4764-926a-aeb82a516419",
   "metadata": {},
   "outputs": [
    {
     "name": "stdin",
     "output_type": "stream",
     "text": [
      "What is your favorite color? Pink\n"
     ]
    }
   ],
   "source": [
    "fav_color = input(\"What is your favorite color?\")"
   ]
  },
  {
   "cell_type": "code",
   "execution_count": 12,
   "id": "0ba7b94b-0803-44de-9d35-70367d28e2b2",
   "metadata": {},
   "outputs": [
    {
     "name": "stdout",
     "output_type": "stream",
     "text": [
      "Your favorite color is Pink.\n"
     ]
    }
   ],
   "source": [
    "print(f\"Your favorite color is {fav_color}.\")"
   ]
  },
  {
   "cell_type": "markdown",
   "id": "89f89e33-357f-4905-8c23-c901f8169dbd",
   "metadata": {},
   "source": [
    "To convert an argument to an int or float: int(item), float(item)"
   ]
  },
  {
   "cell_type": "raw",
   "id": "9716be12-2e70-45fe-b84a-fedede223823",
   "metadata": {},
   "source": [
    "hoursWorked = float(input(\"How many hours did you work this week?\"))"
   ]
  },
  {
   "cell_type": "markdown",
   "id": "7f24da55-4128-41d8-ab83-a75e61d3cd46",
   "metadata": {},
   "source": [
    "Calculations:"
   ]
  },
  {
   "cell_type": "code",
   "execution_count": 18,
   "id": "3bc33f3e-cdb6-4de8-b794-1039642fa06a",
   "metadata": {},
   "outputs": [
    {
     "name": "stdout",
     "output_type": "stream",
     "text": [
      "5\n"
     ]
    }
   ],
   "source": [
    "num1 = 2\n",
    "num2 = 3\n",
    "sum = num1 + num2\n",
    "print(sum)"
   ]
  },
  {
   "cell_type": "markdown",
   "id": "40ad80b9-53e3-4b7c-a35b-4667a13178ae",
   "metadata": {},
   "source": [
    "Floating-point division: /, Integer division: //"
   ]
  },
  {
   "cell_type": "markdown",
   "id": "8c249dc2-4595-48fd-bfc1-8f20cf2468a3",
   "metadata": {},
   "source": [
    "Exponent Operator: **"
   ]
  },
  {
   "cell_type": "markdown",
   "id": "74268d45-4741-4131-bf51-6b7c1b06d93d",
   "metadata": {},
   "source": [
    "Remainder Operator: %"
   ]
  },
  {
   "cell_type": "markdown",
   "id": "aa79c7c7-b0ee-4707-8620-dc0de13784a6",
   "metadata": {},
   "source": [
    "String Concatentation:"
   ]
  },
  {
   "cell_type": "code",
   "execution_count": 19,
   "id": "b365625a-9af1-46cf-bbf0-39be58ce79f7",
   "metadata": {},
   "outputs": [
    {
     "name": "stdout",
     "output_type": "stream",
     "text": [
      "Hello World\n"
     ]
    }
   ],
   "source": [
    "message1 = \"Hello\"\n",
    "message2 = \"World\"\n",
    "message = message1 + \" \" + message2\n",
    "print(message)"
   ]
  },
  {
   "cell_type": "markdown",
   "id": "616b5c62-b40a-4809-a7d3-744b0007e2a9",
   "metadata": {},
   "source": [
    "To not have print function start a new line: print('Hello', end='')"
   ]
  },
  {
   "cell_type": "markdown",
   "id": "2eac4970-40ed-4909-bedd-a35525354ba9",
   "metadata": {},
   "source": [
    "Rounding:"
   ]
  },
  {
   "cell_type": "code",
   "execution_count": 21,
   "id": "589f0230-4b20-4a73-b5aa-6a6028de3b96",
   "metadata": {},
   "outputs": [
    {
     "name": "stdout",
     "output_type": "stream",
     "text": [
      "3.14\n"
     ]
    }
   ],
   "source": [
    "pi = 3.1415926535\n",
    "print(f'{pi:.2f}')"
   ]
  },
  {
   "cell_type": "markdown",
   "id": "dcbea8c7-4a32-47a5-a71e-1bbe67969a3e",
   "metadata": {},
   "source": [
    "Comma Separators with Rounding:"
   ]
  },
  {
   "cell_type": "code",
   "execution_count": 23,
   "id": "ddba5f61-08bb-4133-beb1-700d1bd46bca",
   "metadata": {},
   "outputs": [
    {
     "name": "stdout",
     "output_type": "stream",
     "text": [
      "1,000,000.12\n"
     ]
    }
   ],
   "source": [
    "number = 1000000.123\n",
    "print(f'{number:,.2f}')"
   ]
  },
  {
   "cell_type": "markdown",
   "id": "e7b86f0a-ee5f-46f9-b722-8903a16e8047",
   "metadata": {},
   "source": [
    "Percentage:"
   ]
  },
  {
   "cell_type": "code",
   "execution_count": 25,
   "id": "36af1720-4ae3-4f69-9431-2af7395ee721",
   "metadata": {},
   "outputs": [
    {
     "name": "stdout",
     "output_type": "stream",
     "text": [
      "100%\n"
     ]
    }
   ],
   "source": [
    "percent = 1\n",
    "print(f'{percent:.0%}')"
   ]
  },
  {
   "cell_type": "markdown",
   "id": "76ba8587-e32d-4289-99f7-a0d63caee202",
   "metadata": {},
   "source": [
    "if, if-else, if-elif-else"
   ]
  },
  {
   "cell_type": "markdown",
   "id": "f22cd700-d277-49f6-b451-b8ede5620cb0",
   "metadata": {},
   "source": [
    "Relational operators: >, <, >=, <=, ==, !="
   ]
  },
  {
   "cell_type": "markdown",
   "id": "2698383e-239a-404f-b72d-ac3084477e4e",
   "metadata": {},
   "source": [
    "Logical operators: and, or, not"
   ]
  },
  {
   "cell_type": "markdown",
   "id": "c6e2715e-23d2-422d-9194-7a405ea36831",
   "metadata": {},
   "source": [
    "Boolean variables: True or False"
   ]
  },
  {
   "cell_type": "markdown",
   "id": "ff415bed-e0d5-426e-89bb-9a794210fa8a",
   "metadata": {},
   "source": [
    "Repetition Structures: \n",
    "The while loop: condition-controlled,\n",
    "The for loop: count-controlled\n",
    "\n"
   ]
  },
  {
   "cell_type": "markdown",
   "id": "ed1d8bfc-93ec-4d19-a8d8-1567a899950f",
   "metadata": {},
   "source": [
    "for loop examples:"
   ]
  },
  {
   "cell_type": "code",
   "execution_count": 26,
   "id": "0185211f-dd55-4193-93d4-2a94cb4f17cd",
   "metadata": {},
   "outputs": [
    {
     "name": "stdout",
     "output_type": "stream",
     "text": [
      "1\n",
      "2\n",
      "3\n"
     ]
    }
   ],
   "source": [
    "for num in [1,2,3]:\n",
    "    print(num)"
   ]
  },
  {
   "cell_type": "code",
   "execution_count": 27,
   "id": "74604091-5dee-4378-bf7c-cb6d0f9b3700",
   "metadata": {},
   "outputs": [
    {
     "name": "stdout",
     "output_type": "stream",
     "text": [
      "0\n",
      "1\n",
      "2\n",
      "3\n"
     ]
    }
   ],
   "source": [
    "for num in range(4):\n",
    "    print(num)"
   ]
  },
  {
   "cell_type": "code",
   "execution_count": 30,
   "id": "2a26e1cc-5946-44d3-85b7-d148fbf9374a",
   "metadata": {},
   "outputs": [
    {
     "name": "stdout",
     "output_type": "stream",
     "text": [
      "1\n",
      "2\n",
      "3\n"
     ]
    }
   ],
   "source": [
    "for num in range(1, 4):\n",
    "    print(num)"
   ]
  },
  {
   "cell_type": "code",
   "execution_count": 31,
   "id": "a91845c7-1486-40d7-a92f-7776eadc166f",
   "metadata": {},
   "outputs": [
    {
     "name": "stdout",
     "output_type": "stream",
     "text": [
      "2\n",
      "4\n"
     ]
    }
   ],
   "source": [
    "for num in range(2, 6, 2):\n",
    "    print(num)"
   ]
  },
  {
   "cell_type": "code",
   "execution_count": 32,
   "id": "d88d77cb-3d84-4350-a12c-852ae36c1662",
   "metadata": {},
   "outputs": [
    {
     "name": "stdout",
     "output_type": "stream",
     "text": [
      "55\n"
     ]
    }
   ],
   "source": [
    "#Calculate sum of the numbers from 1 to 10\n",
    "sum = 0\n",
    "for i in range(1, 11):\n",
    "    sum += i\n",
    "print(sum)"
   ]
  },
  {
   "cell_type": "code",
   "execution_count": 40,
   "id": "0561086b-387f-44fd-baff-7b94251a38e9",
   "metadata": {},
   "outputs": [
    {
     "name": "stdout",
     "output_type": "stream",
     "text": [
      "1:1\n",
      "1:2\n",
      "2:1\n",
      "2:2\n",
      "3:1\n",
      "3:2\n",
      "4:1\n",
      "4:2\n"
     ]
    }
   ],
   "source": [
    "#Nested loops\n",
    "for i in range(1,5):\n",
    "    for e in range(1,3):\n",
    "        print(f\"{i}:{e}\")"
   ]
  },
  {
   "cell_type": "code",
   "execution_count": 47,
   "id": "1eb969b2-b17e-46f5-93f5-dd5ae738689e",
   "metadata": {},
   "outputs": [
    {
     "name": "stdout",
     "output_type": "stream",
     "text": [
      "24\n"
     ]
    }
   ],
   "source": [
    "#Calculate the factorial of a number\n",
    "num = 4\n",
    "factorial = 1\n",
    "for i in range(num, 0, -1):\n",
    "    factorial *= i\n",
    "print(factorial)\n",
    "    \n",
    "    "
   ]
  },
  {
   "cell_type": "code",
   "execution_count": 48,
   "id": "cc777940-e941-455a-95b5-c792f126a606",
   "metadata": {},
   "outputs": [
    {
     "name": "stdout",
     "output_type": "stream",
     "text": [
      "Hello world\n"
     ]
    }
   ],
   "source": [
    "#Function\n",
    "\n",
    "def message():\n",
    "    print(\"Hello world\")\n",
    "\n",
    "message()"
   ]
  },
  {
   "cell_type": "code",
   "execution_count": 49,
   "id": "1dd18364-1535-41c9-86c0-7a7ed4d0fb50",
   "metadata": {},
   "outputs": [],
   "source": [
    "#pass keyword:\n",
    "\n",
    "def message1():\n",
    "    pass"
   ]
  },
  {
   "cell_type": "code",
   "execution_count": 51,
   "id": "4d98ae25-b0bc-43bd-8332-a6abeae89f57",
   "metadata": {},
   "outputs": [
    {
     "name": "stdout",
     "output_type": "stream",
     "text": [
      "3\n"
     ]
    }
   ],
   "source": [
    "#Passing arguments to functions\n",
    "def sumOfNumbers(num1, num2):\n",
    "    sum = num1 + num2\n",
    "    print(sum)\n",
    "\n",
    "sumOfNumbers(1, 2)\n",
    "    "
   ]
  },
  {
   "cell_type": "code",
   "execution_count": 53,
   "id": "e20a9cdf-233d-480d-8d8e-a227d2dfe68f",
   "metadata": {},
   "outputs": [
    {
     "name": "stdout",
     "output_type": "stream",
     "text": [
      "11\n"
     ]
    }
   ],
   "source": [
    "#Generating Random Numbers\n",
    "import random\n",
    "number = random.randint(1, 100)\n",
    "print(number)"
   ]
  },
  {
   "cell_type": "code",
   "execution_count": 54,
   "id": "4d97264e-b64b-4929-9db7-a6357b8282b2",
   "metadata": {},
   "outputs": [
    {
     "name": "stdout",
     "output_type": "stream",
     "text": [
      "18\n",
      "50\n",
      "23\n"
     ]
    }
   ],
   "source": [
    "#Get 3 random numbers in the range 1 through 50\n",
    "def main():\n",
    "    for i in range(3):\n",
    "        number = random.randint(1,50)\n",
    "        print(number)\n",
    "\n",
    "main()"
   ]
  },
  {
   "cell_type": "code",
   "execution_count": 56,
   "id": "2c8f6ce3-0835-42f5-9860-e47a18948857",
   "metadata": {},
   "outputs": [
    {
     "name": "stdout",
     "output_type": "stream",
     "text": [
      "[70, 80, 40, 80, 80, 90, 50, 90, 0, 80]\n"
     ]
    }
   ],
   "source": [
    "list = [random.randrange(0, 101, 10) for i in range(10)]\n",
    "print(list)"
   ]
  },
  {
   "cell_type": "code",
   "execution_count": 57,
   "id": "1a7638d0-184c-4527-b306-4916ba001b00",
   "metadata": {},
   "outputs": [
    {
     "name": "stdout",
     "output_type": "stream",
     "text": [
      "3\n"
     ]
    }
   ],
   "source": [
    "#Value-Returning Function\n",
    "def sum(num1, num2):\n",
    "    sumOfNumbers = num1 + num2\n",
    "    return sumOfNumbers\n",
    "\n",
    "print(sum(1,2))"
   ]
  },
  {
   "cell_type": "code",
   "execution_count": 59,
   "id": "940c17f1-a84d-4152-8ba6-d9aa4ef6df5c",
   "metadata": {},
   "outputs": [
    {
     "name": "stdout",
     "output_type": "stream",
     "text": [
      "3\n",
      "4\n"
     ]
    }
   ],
   "source": [
    "#Returning multiple values\n",
    "def getFirstAndSecondNumbers():\n",
    "    num1 = random.randint(1,10)\n",
    "    num2 = random.randint(1,10)\n",
    "    return num1, num2\n",
    "\n",
    "num1, num2 = getFirstAndSecondNumbers()\n",
    "print(num1)\n",
    "print(num2)"
   ]
  },
  {
   "cell_type": "code",
   "execution_count": 61,
   "id": "77a0f885-b83b-489c-b583-ec42bffd0db5",
   "metadata": {},
   "outputs": [
    {
     "name": "stdout",
     "output_type": "stream",
     "text": [
      "4.47213595499958\n"
     ]
    }
   ],
   "source": [
    "#Square root of a number\n",
    "import math\n",
    "squareRoot = math.sqrt(20)\n",
    "print(squareRoot)"
   ]
  },
  {
   "cell_type": "code",
   "execution_count": 63,
   "id": "8e914df7-9c97-46ed-8d8b-466fd5625362",
   "metadata": {},
   "outputs": [
    {
     "name": "stdout",
     "output_type": "stream",
     "text": [
      "Hello world\n"
     ]
    }
   ],
   "source": [
    "#using the main function \n",
    "\n",
    "def main():\n",
    "    print(\"Hello world\")\n",
    "\n",
    "#calls the main function only if the file is run as a standalone program\n",
    "if __name__ == '__main__':\n",
    "    main()"
   ]
  },
  {
   "cell_type": "code",
   "execution_count": 65,
   "id": "dca0c2b0-df4a-41e8-966e-68f36040d63e",
   "metadata": {},
   "outputs": [],
   "source": [
    "#Write to a text file\n",
    "numberFile = open('fileWithNumbers.txt', 'w')\n",
    "num1 = 3\n",
    "num2 = 5\n",
    "numberFile.write(str(num1) + '\\n')\n",
    "numberFile.write(str(num2) + '\\n')\n",
    "numberFile.close()\n"
   ]
  },
  {
   "cell_type": "code",
   "execution_count": 66,
   "id": "965ba104-642e-4a2c-bff8-846dfe605511",
   "metadata": {},
   "outputs": [
    {
     "data": {
      "text/plain": [
       "'\\nTry/except statement:\\ntry:\\n    statement\\n    statement\\n    etc.\\nexcept ExceptionName: \\n    statement\\n    statement\\n    etc.\\n'"
      ]
     },
     "execution_count": 66,
     "metadata": {},
     "output_type": "execute_result"
    }
   ],
   "source": [
    "'''\n",
    "Try/except statement:\n",
    "try:\n",
    "    statement\n",
    "    statement\n",
    "    etc.\n",
    "except ExceptionName: \n",
    "    statement\n",
    "    statement\n",
    "    etc.\n",
    "'''"
   ]
  },
  {
   "cell_type": "code",
   "execution_count": 67,
   "id": "68e0ae5b-881c-4eda-abd4-d2e5412848dd",
   "metadata": {},
   "outputs": [
    {
     "data": {
      "text/plain": [
       "'\\nThe else clause:\\ntry:\\n    statement\\n    statement\\n    etc.\\nexcept ExceptionName: \\n    statement\\n    statement\\n    etc.\\nelse: \\n    statement\\n    etc.\\n\\nThe finally clause:\\ntry:\\n    statement\\n    statement\\n    etc.\\nexcept ExceptionName: \\n    statement\\n    statement\\n    etc.\\nfinally: \\n    statement\\n    etc.\\n'"
      ]
     },
     "execution_count": 67,
     "metadata": {},
     "output_type": "execute_result"
    }
   ],
   "source": [
    "'''\n",
    "The else clause:\n",
    "try:\n",
    "    statement\n",
    "    statement\n",
    "    etc.\n",
    "except ExceptionName: \n",
    "    statement\n",
    "    statement\n",
    "    etc.\n",
    "else: \n",
    "    statement\n",
    "    etc.\n",
    "\n",
    "The finally clause:\n",
    "try:\n",
    "    statement\n",
    "    statement\n",
    "    etc.\n",
    "except ExceptionName: \n",
    "    statement\n",
    "    statement\n",
    "    etc.\n",
    "finally: \n",
    "    statement\n",
    "    etc.\n",
    "'''"
   ]
  },
  {
   "cell_type": "code",
   "execution_count": 78,
   "id": "55b5297c-1662-4477-862a-11234f5e7886",
   "metadata": {},
   "outputs": [
    {
     "name": "stdout",
     "output_type": "stream",
     "text": [
      "3579\n",
      "[2, 2]\n"
     ]
    }
   ],
   "source": [
    "#Lists\n",
    "oddNumbers = [3, 5, 7, 9]\n",
    "for num in oddNumbers:\n",
    "    print(num, end='')\n",
    "\n",
    "numberRepeated = [2] * 2\n",
    "print(f'\\n{numberRepeated}')\n",
    "\n"
   ]
  },
  {
   "cell_type": "code",
   "execution_count": 82,
   "id": "7c5efdfe-733a-4cb4-8055-a7998e2ee0f1",
   "metadata": {},
   "outputs": [
    {
     "name": "stdout",
     "output_type": "stream",
     "text": [
      "2\n",
      "3\n",
      "4\n",
      "\n",
      "2\n",
      "3\n",
      "4\n",
      "\n",
      "2\n",
      "3\n",
      "4\n"
     ]
    }
   ],
   "source": [
    "#Loop through list\n",
    "list1 = [2,3,4]\n",
    "for i in list1:\n",
    "    print(i)\n",
    "\n",
    "print()\n",
    "\n",
    "index = 0\n",
    "while index < len(list1):\n",
    "    print(list1[index])\n",
    "    index += 1\n",
    "\n",
    "print()\n",
    "\n",
    "for i in range(len(list1)):\n",
    "    print(list1[i])\n",
    "    "
   ]
  },
  {
   "cell_type": "code",
   "execution_count": 83,
   "id": "cfdbf759-7012-4c60-aa16-23de93c905a4",
   "metadata": {},
   "outputs": [
    {
     "name": "stdout",
     "output_type": "stream",
     "text": [
      "[1, 2, 3]\n",
      "[1, 2]\n",
      "[2, 3]\n"
     ]
    }
   ],
   "source": [
    "#List slicing \n",
    "# list_name[start : end]\n",
    "\n",
    "list1 = [1, 2, 3]\n",
    "print(list1[:])\n",
    "print(list1[:2])\n",
    "print(list1[1:])"
   ]
  },
  {
   "cell_type": "code",
   "execution_count": 84,
   "id": "190c9460-9d9e-4f31-81d4-78693b3b8524",
   "metadata": {},
   "outputs": [
    {
     "data": {
      "text/plain": [
       "' \\nList Methods:\\nappend(item)\\nindex(item)\\ninsert(index, item)\\nsort()\\nremove(item)\\nreverse()\\n'"
      ]
     },
     "execution_count": 84,
     "metadata": {},
     "output_type": "execute_result"
    }
   ],
   "source": [
    "''' \n",
    "List Methods:\n",
    "append(item)\n",
    "index(item)\n",
    "insert(index, item)\n",
    "sort()\n",
    "remove(item)\n",
    "reverse()\n",
    "'''"
   ]
  },
  {
   "cell_type": "code",
   "execution_count": 85,
   "id": "de7e5f78-8292-4f20-b0bb-b0d539f10d43",
   "metadata": {},
   "outputs": [
    {
     "name": "stdout",
     "output_type": "stream",
     "text": [
      "[5]\n"
     ]
    }
   ],
   "source": [
    "list1 = [3, 5]\n",
    "del list1[0]\n",
    "print(list1)"
   ]
  },
  {
   "cell_type": "code",
   "execution_count": 86,
   "id": "c9081269-993d-47c6-a871-3ca6dc14f2e6",
   "metadata": {},
   "outputs": [
    {
     "name": "stdout",
     "output_type": "stream",
     "text": [
      "3\n",
      "9\n"
     ]
    }
   ],
   "source": [
    "list1 = [3,4,5,6,7,8,9]\n",
    "print(min(list1))\n",
    "print(max(list1))"
   ]
  },
  {
   "cell_type": "code",
   "execution_count": 90,
   "id": "80d301a8-c516-44e3-89e4-92f41f9bfdbe",
   "metadata": {},
   "outputs": [
    {
     "name": "stdout",
     "output_type": "stream",
     "text": [
      "h\n",
      "e\n",
      "l\n",
      "l\n",
      "o\n",
      "\n",
      "h\n",
      "e\n",
      "l\n",
      "l\n",
      "o\n"
     ]
    }
   ],
   "source": [
    "#Iterating over a string\n",
    "string1 = \"hello\"\n",
    "for ch in string1:\n",
    "    print(ch)\n",
    "\n",
    "print()\n",
    "\n",
    "index = 0\n",
    "while index < len(string1):\n",
    "    print(string1[index])\n",
    "    index += 1"
   ]
  },
  {
   "cell_type": "code",
   "execution_count": 92,
   "id": "26e31691-c8ef-4d91-b3cc-1840e0c11bcc",
   "metadata": {},
   "outputs": [
    {
     "name": "stdout",
     "output_type": "stream",
     "text": [
      "hello\n",
      "world\n"
     ]
    }
   ],
   "source": [
    "#String slicing\n",
    "string1 = 'hello world'\n",
    "print(string1[:5])\n",
    "print(string1[6:])"
   ]
  },
  {
   "cell_type": "code",
   "execution_count": 93,
   "id": "f4c36615-68d4-49e8-8fcd-db2763e2a848",
   "metadata": {},
   "outputs": [
    {
     "data": {
      "text/plain": [
       "'\\nString methods:\\nisalnum()\\nisalpha()\\nisdigit()\\nislower()\\nisspace()\\nisupper()\\n'"
      ]
     },
     "execution_count": 93,
     "metadata": {},
     "output_type": "execute_result"
    }
   ],
   "source": [
    "'''\n",
    "String methods:\n",
    "isalnum()\n",
    "isalpha()\n",
    "isdigit()\n",
    "islower()\n",
    "isspace()\n",
    "isupper()\n",
    "'''"
   ]
  },
  {
   "cell_type": "code",
   "execution_count": 95,
   "id": "7eb1d9a1-83cb-4fdf-a1a6-34a2f453d1ad",
   "metadata": {},
   "outputs": [
    {
     "data": {
      "text/plain": [
       "'\\nString modification methods:\\nlower()\\nstrip()\\nupper()\\n'"
      ]
     },
     "execution_count": 95,
     "metadata": {},
     "output_type": "execute_result"
    }
   ],
   "source": [
    "'''\n",
    "String modification methods:\n",
    "lower()\n",
    "strip()\n",
    "upper()\n",
    "'''"
   ]
  },
  {
   "cell_type": "code",
   "execution_count": 96,
   "id": "3baeabb2-9967-493d-81c3-099fa0e382b4",
   "metadata": {},
   "outputs": [
    {
     "data": {
      "text/plain": [
       "'\\nSplitting a string:\\nsplit()\\n'"
      ]
     },
     "execution_count": 96,
     "metadata": {},
     "output_type": "execute_result"
    }
   ],
   "source": [
    "'''\n",
    "Splitting a string:\n",
    "split()\n",
    "'''"
   ]
  },
  {
   "cell_type": "code",
   "execution_count": 108,
   "id": "696d54d5-d6c0-4b97-aa98-f84571f1777b",
   "metadata": {},
   "outputs": [
    {
     "name": "stdout",
     "output_type": "stream",
     "text": [
      "4\n",
      "{2: 4, 3: 7}\n",
      "{2: 4}\n",
      "1\n",
      "\n",
      "2 4\n",
      "2 4\n"
     ]
    }
   ],
   "source": [
    "#Dictionary\n",
    "dict1 = {2:4}\n",
    "print(dict1[2])\n",
    "dict1[3] = 7\n",
    "print(dict1)\n",
    "del dict1[3]\n",
    "print(dict1)\n",
    "print(len(dict1))\n",
    "print()\n",
    "for key in dict1:\n",
    "    print(key, dict1[key])\n",
    "\n",
    "for key, value in dict1.items():\n",
    "    print(key, value)\n"
   ]
  },
  {
   "cell_type": "code",
   "execution_count": 107,
   "id": "0e2844ac-0267-4f48-9acd-d67f6d39eaef",
   "metadata": {},
   "outputs": [
    {
     "data": {
      "text/plain": [
       "'\\nDictionary methods:\\nclear\\nget\\nitems\\nkeys\\npop\\npopitem\\nvalues\\n'"
      ]
     },
     "execution_count": 107,
     "metadata": {},
     "output_type": "execute_result"
    }
   ],
   "source": [
    "'''\n",
    "Dictionary methods:\n",
    "clear\n",
    "get\n",
    "items\n",
    "keys\n",
    "pop\n",
    "popitem\n",
    "values\n",
    "'''\n"
   ]
  },
  {
   "cell_type": "code",
   "execution_count": 114,
   "id": "0f2d61d0-685c-4076-bb03-33103013b941",
   "metadata": {},
   "outputs": [
    {
     "name": "stdout",
     "output_type": "stream",
     "text": [
      "{1, 2}\n",
      "2\n",
      "2\n"
     ]
    },
    {
     "data": {
      "text/plain": [
       "'\\nset1.union(set2)\\nset1.intersection(set2)\\nset1.difference(set2)\\nset1.symmetric_difference(set2)\\nset2.issubset(set1)\\nset1.issuperset(set2)\\n'"
      ]
     },
     "execution_count": 114,
     "metadata": {},
     "output_type": "execute_result"
    }
   ],
   "source": [
    "#Sets\n",
    "set1 = set()\n",
    "set1.add(1)\n",
    "set1.add(2)\n",
    "print(set1)\n",
    "for val in set1:\n",
    "    print(i)\n",
    "\n",
    "'''\n",
    "set1.union(set2)\n",
    "set1.intersection(set2)\n",
    "set1.difference(set2)\n",
    "set1.symmetric_difference(set2)\n",
    "set2.issubset(set1)\n",
    "set1.issuperset(set2)\n",
    "'''\n"
   ]
  },
  {
   "cell_type": "code",
   "execution_count": 1,
   "id": "657494f8-2567-4f38-8f6d-3d8b5064b455",
   "metadata": {},
   "outputs": [
    {
     "name": "stdout",
     "output_type": "stream",
     "text": [
      "Cat\n",
      "Meow\n"
     ]
    }
   ],
   "source": [
    "#Classes, Inheritance, Polymorphism \n",
    "''' \n",
    "Reference: Starting Out with Python, 5th edition, Tony Gaddis \n",
    "'''\n",
    "class Mammal:\n",
    "    def __init__(self, species):\n",
    "        self.species = species\n",
    "\n",
    "    def getSpecies(self):\n",
    "        print(self.species)\n",
    "\n",
    "    def make_sound(self):\n",
    "        print('Grrrr')\n",
    "\n",
    "class Dog(Mammal):\n",
    "    def __init__(self):\n",
    "        Mammal.__init__(self, 'Dog')\n",
    "\n",
    "    def make_sound(self):\n",
    "        print('Woof! Woof!')\n",
    "\n",
    "class Cat(Mammal):\n",
    "    def __init__(self):\n",
    "        Mammal.__init__(self, 'Cat')\n",
    "\n",
    "    def make_sound(self):\n",
    "        print('Meow')\n",
    "\n",
    "cat = Cat()\n",
    "cat.getSpecies()\n",
    "cat.make_sound()"
   ]
  },
  {
   "cell_type": "code",
   "execution_count": null,
   "id": "482954bd-8c41-45af-a543-a42a7ca0cc67",
   "metadata": {},
   "outputs": [],
   "source": []
  }
 ],
 "metadata": {
  "kernelspec": {
   "display_name": "Python 3 (ipykernel)",
   "language": "python",
   "name": "python3"
  },
  "language_info": {
   "codemirror_mode": {
    "name": "ipython",
    "version": 3
   },
   "file_extension": ".py",
   "mimetype": "text/x-python",
   "name": "python",
   "nbconvert_exporter": "python",
   "pygments_lexer": "ipython3",
   "version": "3.12.4"
  }
 },
 "nbformat": 4,
 "nbformat_minor": 5
}
